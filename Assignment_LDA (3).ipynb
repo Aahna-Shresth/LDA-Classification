{
 "cells": [
  {
   "cell_type": "markdown",
   "id": "4e5c4bc3-31c6-420d-aa58-58e40b4ae75e",
   "metadata": {},
   "source": [
    "# Generate a dataset of two classes each having 50 points as follows from Normal distribution, Mean at (-2,-2) Standard Deviation of 1 → Class A, Mean at (2,2) Standard Deviation of 2 → Class B\n",
    "#### • Find the direction v using Fisher’s Linear Discriminant function and generate the plot as shown \n",
    "#### • Project all the 100 points on v\n",
    "#### • Create your own criterion for classification.\n",
    "#### • Classify the following points based on your criterion: (0,0), (0,-0.5),(0.5,0)"
   ]
  },
  {
   "cell_type": "code",
   "execution_count": 1,
   "id": "b672a55a-8e3a-4373-b79e-4eaeb8bbddb2",
   "metadata": {},
   "outputs": [],
   "source": [
    "import numpy as np"
   ]
  },
  {
   "cell_type": "code",
   "execution_count": 2,
   "id": "d25b6d9f-7840-4ac6-8048-983342fc4960",
   "metadata": {},
   "outputs": [],
   "source": [
    "import matplotlib.pyplot as plt"
   ]
  },
  {
   "cell_type": "markdown",
   "id": "30083e23-3053-4acf-8e3f-1cb72faec04d",
   "metadata": {},
   "source": [
    "#### Generate Data"
   ]
  },
  {
   "cell_type": "code",
   "execution_count": 3,
   "id": "c2e73d5c-0981-472d-92a0-c859552a1f62",
   "metadata": {},
   "outputs": [
    {
     "name": "stdout",
     "output_type": "stream",
     "text": [
      "[[-3.74435932 -1.26704937]\n",
      " [-2.62808947 -3.96727667]\n",
      " [-1.0758898  -2.28002121]\n",
      " [-2.22375321 -2.01064728]\n",
      " [-1.42228727 -3.12461111]\n",
      " [-1.72051728 -3.82165231]\n",
      " [-2.60296887 -2.41931973]\n",
      " [ 0.1223614  -2.79978792]\n",
      " [-2.35275619  0.02895475]\n",
      " [-1.41141013 -2.21087067]\n",
      " [-3.45202443 -1.61185745]\n",
      " [-2.241511   -1.52640269]\n",
      " [-1.34034764 -2.37844544]\n",
      " [-1.74310473 -2.88884545]\n",
      " [-3.04758297 -2.35964364]\n",
      " [-2.0438689  -0.90762922]\n",
      " [-1.62909314 -0.13982865]\n",
      " [-3.50952938 -2.98721549]\n",
      " [-2.81370902 -3.8027161 ]\n",
      " [-1.19986096 -1.35155979]\n",
      " [-0.14583822 -2.63630937]\n",
      " [-1.80930921 -2.38881514]\n",
      " [-1.9989342  -2.27694698]\n",
      " [-2.19319866 -2.21391734]\n",
      " [-1.30527882 -2.67793293]\n",
      " [-3.23333536 -3.22196454]\n",
      " [-1.58807843 -2.00054026]\n",
      " [-3.47722452 -0.242122  ]\n",
      " [ 0.04493906 -2.16324078]\n",
      " [-0.94322792 -1.59390379]\n",
      " [-3.71043611 -1.53104604]\n",
      " [-4.48952716 -0.77684054]\n",
      " [-1.70545926  0.90249515]\n",
      " [-3.94084366 -0.88450896]\n",
      " [-2.14929119 -2.36252031]\n",
      " [-1.57354387 -1.83738146]\n",
      " [-3.55973931 -3.08821125]\n",
      " [-0.88073966 -2.22960964]\n",
      " [-1.16138498 -2.74420057]\n",
      " [-1.91072813 -2.06425624]\n",
      " [-1.34443427 -0.32293459]\n",
      " [-2.86393557 -2.13011383]\n",
      " [-1.67088909  0.0470366 ]\n",
      " [-2.78110908 -2.74732384]\n",
      " [-2.89480021 -3.48717334]\n",
      " [-1.73575068 -1.90395355]\n",
      " [-1.94625512 -1.9936334 ]\n",
      " [-1.67734177 -2.16522282]\n",
      " [-2.02411792 -3.2521228 ]\n",
      " [-3.04973092 -1.55263668]]\n",
      "[[ 1.95103947 -0.93085699]\n",
      " [ 5.40000361  0.91077106]\n",
      " [-0.00686829 -0.40239627]\n",
      " [ 1.41604073 -0.83549082]\n",
      " [ 5.14899833  4.16070764]\n",
      " [ 2.40996548  1.99400497]\n",
      " [ 1.0472199   3.21778362]\n",
      " [ 2.49649714  5.27969625]\n",
      " [ 3.66290631  0.23192519]\n",
      " [ 4.54397445  0.7044778 ]\n",
      " [ 0.55779683 -3.82680312]\n",
      " [ 2.88690805  2.33948499]\n",
      " [ 2.09478526  2.72343496]\n",
      " [-0.39214573  2.90033163]\n",
      " [ 3.02459207  3.19137042]\n",
      " [ 0.80763682  4.42675606]\n",
      " [ 0.679134    4.20150392]\n",
      " [ 3.63575992 -0.18350898]\n",
      " [ 5.88080277  1.93241928]\n",
      " [ 0.85009871  3.14417937]\n",
      " [ 2.38024876  1.37658298]\n",
      " [-0.07986682  4.64400013]\n",
      " [-1.77040256 -4.22139385]\n",
      " [ 3.68985915  0.67649262]\n",
      " [ 2.52231904  3.36631647]\n",
      " [ 0.6289828   1.7747252 ]\n",
      " [-0.33864628  5.45577788]\n",
      " [ 2.28339495 -1.11808904]\n",
      " [ 1.24919377  3.5558295 ]\n",
      " [ 2.30796549 -2.20210608]\n",
      " [ 1.23968969  5.03413687]\n",
      " [ 5.96279242  0.92773698]\n",
      " [-2.25365568  4.09010922]\n",
      " [ 4.3011325   1.29878548]\n",
      " [ 4.42858847  3.62187224]\n",
      " [ 2.7445454   0.37020146]\n",
      " [ 2.22414176  5.09419579]\n",
      " [ 2.06973269  0.31979333]\n",
      " [ 4.5367051   4.09371326]\n",
      " [ 0.8270515   2.95327054]\n",
      " [ 1.43455657  1.91286307]\n",
      " [ 1.3800827   0.78889449]\n",
      " [ 1.54393327  3.87548372]\n",
      " [ 2.87320735  1.67639482]\n",
      " [-1.81011898  0.49521973]\n",
      " [ 3.71259189  1.37669362]\n",
      " [ 1.44508141  4.32744968]\n",
      " [-0.05501003  3.44807073]\n",
      " [ 0.75876725  1.69558193]\n",
      " [ 4.8569002   1.1146258 ]]\n"
     ]
    }
   ],
   "source": [
    "A_Class = np.random.normal(loc = (-2,-2), scale = 1, size = (50,2)) \n",
    "print(A_Class)\n",
    "B_Class = np.random.normal(loc = (2,2), scale = 2, size = (50,2)) \n",
    "print(B_Class)"
   ]
  },
  {
   "cell_type": "markdown",
   "id": "cfc3836c-9e36-4a45-93e4-611f65f2c070",
   "metadata": {},
   "source": [
    "#### Scatter plot of original data"
   ]
  },
  {
   "cell_type": "code",
   "execution_count": 4,
   "id": "d17f6fcd-b7c1-49d7-96b3-2e091aabb73e",
   "metadata": {},
   "outputs": [
    {
     "data": {
      "image/png": "[encoded data removed]",
      "text/plain": [
       "<Figure size 640x480 with 1 Axes>"
      ]
     },
     "metadata": {},
     "output_type": "display_data"
    }
   ],
   "source": [
    "plt.scatter(A_Class[:, 0], A_Class[:, 1], color='blue', label='Class A')\n",
    "plt.scatter(B_Class[:, 0], B_Class[:, 1], color='red', label='Class B')\n",
    "plt.show()"
   ]
  },
  {
   "cell_type": "markdown",
   "id": "8aa372c3-9f01-4d53-a989-8ef6713a98bb",
   "metadata": {},
   "source": [
    "#### We calculate the sample mean instead of given meam_A and mean_B"
   ]
  },
  {
   "cell_type": "code",
   "execution_count": 5,
   "id": "8eb3b3d9-a81a-4c25-afe5-f6996f2fcb20",
   "metadata": {},
   "outputs": [
    {
     "name": "stdout",
     "output_type": "stream",
     "text": [
      "[-2.11599693 -2.02732553]\n",
      "[2.06377819 1.94006039]\n"
     ]
    }
   ],
   "source": [
    "mean_A = np.mean(A_Class, axis=0)\n",
    "mean_B = np.mean(B_Class, axis=0)\n",
    "print(mean_A)\n",
    "print(mean_B)"
   ]
  },
  {
   "cell_type": "markdown",
   "id": "7c3b6fab-216c-4f5f-8fcb-019dbf8c40ff",
   "metadata": {},
   "source": [
    "#### S_w = S_A + S_B, where S_A and S_B are scatter matrices of Class A and B respectively. "
   ]
  },
  {
   "cell_type": "code",
   "execution_count": 6,
   "id": "8878a2b7-b1d7-4ccb-8439-0c3a3b44e43d",
   "metadata": {},
   "outputs": [
    {
     "name": "stdout",
     "output_type": "stream",
     "text": [
      "[[236.94869374  -9.67715039]\n",
      " [ -9.67715039 300.17724513]]\n"
     ]
    }
   ],
   "source": [
    "# Center the data by subtracting the mean\n",
    "centered_A = A_Class - mean_A  \n",
    "centered_B = B_Class - mean_B  \n",
    "# Compute scatter matrices using vectorized matrix multiplication\n",
    "S_A = centered_A.T @ centered_A\n",
    "S_B = centered_B.T @ centered_B\n",
    "# Computing S_w\n",
    "S_w = S_A + S_B\n",
    "print(S_w)"
   ]
  },
  {
   "cell_type": "markdown",
   "id": "a8dbdd90-107d-4158-8077-d4d0d03a591f",
   "metadata": {},
   "source": [
    "#### Now, we will find the inverse of S_w"
   ]
  },
  {
   "cell_type": "code",
   "execution_count": 7,
   "id": "5d7d771a-27b8-47bc-8367-834e797f1b2f",
   "metadata": {},
   "outputs": [
    {
     "name": "stdout",
     "output_type": "stream",
     "text": [
      "[[0.00422589 0.00013623]\n",
      " [0.00013623 0.00333576]]\n"
     ]
    }
   ],
   "source": [
    "inverse_S_w =np.linalg.inv(S_w)\n",
    "print(inverse_S_w)"
   ]
  },
  {
   "cell_type": "markdown",
   "id": "e6b9d249-9b70-495b-9ad6-f9c0b0ee5c2a",
   "metadata": {},
   "source": [
    "#### To compute the direction v, we will use the formula: v = (inverse of S_w)(mean_A - mean_B)\n",
    "#### But both matrix is not following multiplication rule because (mean_A - mean_B) is 1 x 2 matrix, so we will take its transpose."
   ]
  },
  {
   "cell_type": "code",
   "execution_count": 8,
   "id": "c21d2b2a-a61d-4aac-9b4e-870c6005031b",
   "metadata": {},
   "outputs": [
    {
     "name": "stdout",
     "output_type": "stream",
     "text": [
      "[-0.01820375 -0.01380367]\n"
     ]
    }
   ],
   "source": [
    "v = (inverse_S_w)@(mean_A - mean_B).T\n",
    "print(v)"
   ]
  },
  {
   "cell_type": "markdown",
   "id": "5669a587-e64d-4147-a7a3-df3916e3e261",
   "metadata": {},
   "source": [
    "#### # Slope of projection direction"
   ]
  },
  {
   "cell_type": "code",
   "execution_count": 9,
   "id": "6c70347a-9648-4a3a-9678-dc00dc5ff870",
   "metadata": {},
   "outputs": [
    {
     "name": "stdout",
     "output_type": "stream",
     "text": [
      "0.7582868491683349\n"
     ]
    }
   ],
   "source": [
    "slope = v[1] / v[0]  \n",
    "print(slope)"
   ]
  },
  {
   "cell_type": "markdown",
   "id": "cb0de0b3-4820-4bcc-a00e-74c11ea4fcc6",
   "metadata": {},
   "source": [
    "#### Generate x values for decision boundary using min and max of dataset"
   ]
  },
  {
   "cell_type": "code",
   "execution_count": 10,
   "id": "dcbe2125-0892-401c-ad4a-8f1685a40a4f",
   "metadata": {},
   "outputs": [
    {
     "name": "stdout",
     "output_type": "stream",
     "text": [
      "-4.489527157589775 5.96279242390097\n",
      "[-4.48952716 -4.38394817 -4.27836919 -4.1727902  -4.06721121 -3.96163223\n",
      " -3.85605324 -3.75047426 -3.64489527 -3.53931629 -3.4337373  -3.32815832\n",
      " -3.22257933 -3.11700034 -3.01142136 -2.90584237 -2.80026339 -2.6946844\n",
      " -2.58910542 -2.48352643 -2.37794744 -2.27236846 -2.16678947 -2.06121049\n",
      " -1.9556315  -1.85005252 -1.74447353 -1.63889454 -1.53331556 -1.42773657\n",
      " -1.32215759 -1.2165786  -1.11099962 -1.00542063 -0.89984164 -0.79426266\n",
      " -0.68868367 -0.58310469 -0.4775257  -0.37194672 -0.26636773 -0.16078875\n",
      " -0.05520976  0.05036923  0.15594821  0.2615272   0.36710618  0.47268517\n",
      "  0.57826415  0.68384314  0.78942213  0.89500111  1.0005801   1.10615908\n",
      "  1.21173807  1.31731705  1.42289604  1.52847503  1.63405401  1.739633\n",
      "  1.84521198  1.95079097  2.05636995  2.16194894  2.26752793  2.37310691\n",
      "  2.4786859   2.58426488  2.68984387  2.79542285  2.90100184  3.00658083\n",
      "  3.11215981  3.2177388   3.32331778  3.42889677  3.53447575  3.64005474\n",
      "  3.74563372  3.85121271  3.9567917   4.06237068  4.16794967  4.27352865\n",
      "  4.37910764  4.48468662  4.59026561  4.6958446   4.80142358  4.90700257\n",
      "  5.01258155  5.11816054  5.22373952  5.32931851  5.4348975   5.54047648\n",
      "  5.64605547  5.75163445  5.85721344  5.96279242]\n",
      "[-3.4043494  -3.32429025 -3.24423109 -3.16417193 -3.08411278 -3.00405362\n",
      " -2.92399446 -2.84393531 -2.76387615 -2.683817   -2.60375784 -2.52369868\n",
      " -2.44363953 -2.36358037 -2.28352121 -2.20346206 -2.1234029  -2.04334374\n",
      " -1.96328459 -1.88322543 -1.80316627 -1.72310712 -1.64304796 -1.56298881\n",
      " -1.48292965 -1.40287049 -1.32281134 -1.24275218 -1.16269302 -1.08263387\n",
      " -1.00257471 -0.92251555 -0.8424564  -0.76239724 -0.68233809 -0.60227893\n",
      " -0.52221977 -0.44216062 -0.36210146 -0.2820423  -0.20198315 -0.12192399\n",
      " -0.04186483  0.03819432  0.11825348  0.19831263  0.27837179  0.35843095\n",
      "  0.4384901   0.51854926  0.59860842  0.67866757  0.75872673  0.83878589\n",
      "  0.91884504  0.9989042   1.07896335  1.15902251  1.23908167  1.31914082\n",
      "  1.39919998  1.47925914  1.55931829  1.63937745  1.71943661  1.79949576\n",
      "  1.87955492  1.95961408  2.03967323  2.11973239  2.19979154  2.2798507\n",
      "  2.35990986  2.43996901  2.52002817  2.60008733  2.68014648  2.76020564\n",
      "  2.8402648   2.92032395  3.00038311  3.08044226  3.16050142  3.24056058\n",
      "  3.32061973  3.40067889  3.48073805  3.5607972   3.64085636  3.72091552\n",
      "  3.80097467  3.88103383  3.96109298  4.04115214  4.1212113   4.20127045\n",
      "  4.28132961  4.36138877  4.44144792  4.52150708]\n"
     ]
    }
   ],
   "source": [
    "x_min, x_max = min(A_Class[:, 0].min(), B_Class[:, 0].min()), max(A_Class[:, 0].max(), B_Class[:, 0].max()) # this finds min and max x-values from both classes\n",
    "x_vals = np.linspace(x_min, x_max, 100) # Generates 100 evenly spaced x-values between x_min and x_max to plot the decision boundary (a straight line)\n",
    "y_vals = slope * x_vals  # Line equation\n",
    "print(x_min,x_max)\n",
    "print(x_vals)\n",
    "print(y_vals)"
   ]
  },
  {
   "cell_type": "markdown",
   "id": "e4882bc6-bf35-429c-b234-8ce208a6974f",
   "metadata": {},
   "source": [
    "#### Plotting the slope of projection"
   ]
  },
  {
   "cell_type": "code",
   "execution_count": 11,
   "id": "08247085-aded-4cd5-a8fa-9f3da4ad9717",
   "metadata": {},
   "outputs": [
    {
     "data": {
      "image/png": "[encoded data removed]",
      "text/plain": [
       "<Figure size 800x600 with 1 Axes>"
      ]
     },
     "metadata": {},
     "output_type": "display_data"
    }
   ],
   "source": [
    "plt.figure(figsize=(8, 6))\n",
    "plt.scatter(A_Class[:, 0], A_Class[:, 1], color='blue', label='Class A')\n",
    "plt.scatter(B_Class[:, 0], B_Class[:, 1], color='red', label='Class B')\n",
    "plt.plot(x_vals, y_vals, color='black', linestyle='--', label=\"Decision Boundary\")\n",
    "plt.legend()\n",
    "# X1 and X2 are the two features (dimensions) of the dataset.\n",
    "plt.xlabel(\"X1\")\n",
    "plt.ylabel(\"X2\") \n",
    "plt.title(\"Fisher’s Linear Discriminant - Decision Boundary\")\n",
    "plt.show()"
   ]
  },
  {
   "cell_type": "markdown",
   "id": "94403d99-9649-4024-9ddf-b5997798cdb3",
   "metadata": {},
   "source": [
    "#### Project all points onto v"
   ]
  },
  {
   "cell_type": "code",
   "execution_count": 12,
   "id": "2cbae32e-3528-477a-ad25-fa7038d4768d",
   "metadata": {},
   "outputs": [
    {
     "name": "stdout",
     "output_type": "stream",
     "text": [
      "[0.08565131 0.10260405 0.05105788 0.06823496 0.06902205 0.08407268\n",
      " 0.08077928 0.0364199  0.04242931 0.05621108 0.08508934 0.06187386\n",
      " 0.05723062 0.0716077  0.08804918 0.04973469 0.03158576 0.10512113\n",
      " 0.10371148 0.04049845 0.03904554 0.06591062 0.06781832 0.07048462\n",
      " 0.06072626 0.10333376 0.05652378 0.0666407  0.02904259 0.039172\n",
      " 0.08867791 0.09244949 0.01858802 0.08394761 0.0717366  0.054007\n",
      " 0.10742925 0.04680955 0.05902159 0.06327672 0.02893143 0.08153775\n",
      " 0.02976717 0.08854976 0.100832   0.05787871 0.06294859 0.06042193\n",
      " 0.08173776 0.07694862]\n",
      "[-0.022667   -0.11087231  0.00567957 -0.01424442 -0.15116411 -0.07139499\n",
      " -0.06348054 -0.11832478 -0.06988006 -0.09244176  0.04266992 -0.08484603\n",
      " -0.07572634 -0.03289668 -0.09911153 -0.07580748 -0.07035894 -0.06365138\n",
      " -0.13372715 -0.05887619 -0.06233135 -0.06265035  0.09049868 -0.07650736\n",
      " -0.09238318 -0.03594756 -0.0691451  -0.02613263 -0.0718235  -0.0116165\n",
      " -0.09205655 -0.12135137 -0.01543351 -0.09622475 -0.13061204 -0.05507116\n",
      " -0.1108063  -0.04209122 -0.1390933  -0.0558214  -0.05251883 -0.03601232\n",
      " -0.08160126 -0.07544355  0.02611511 -0.08658652 -0.08604057 -0.04659463\n",
      " -0.03721766 -0.10379973]\n"
     ]
    }
   ],
   "source": [
    "Projected_A = A_Class @ v\n",
    "print(Projected_A)\n",
    "Projected_B = B_Class @ v\n",
    "print(Projected_B)"
   ]
  },
  {
   "cell_type": "markdown",
   "id": "24fd71b3-9197-49d2-9981-a2804c832bb5",
   "metadata": {},
   "source": [
    "#### Define Classification criterion (using min/max boundary)"
   ]
  },
  {
   "cell_type": "code",
   "execution_count": 13,
   "id": "bf1bfb42-1b89-46bb-a863-d895d3532fca",
   "metadata": {},
   "outputs": [
    {
     "name": "stdout",
     "output_type": "stream",
     "text": [
      "-0.02186742956732586\n"
     ]
    }
   ],
   "source": [
    "criterion = (max(Projected_A) + min(Projected_B)) / 2\n",
    "print(criterion)"
   ]
  },
  {
   "cell_type": "markdown",
   "id": "9c6b4cd8-b64c-4947-9fd7-56228a264818",
   "metadata": {},
   "source": [
    "#### Classify new points"
   ]
  },
  {
   "cell_type": "code",
   "execution_count": 14,
   "id": "33ddcd3f-e357-470c-9b94-013656491d0e",
   "metadata": {},
   "outputs": [
    {
     "name": "stdout",
     "output_type": "stream",
     "text": [
      "[ 0.          0.00690183 -0.00910188]\n",
      "Point [0. 0.] is classified as Class A\n",
      "Point [ 0.  -0.5] is classified as Class A\n",
      "Point [0.5 0. ] is classified as Class A\n"
     ]
    }
   ],
   "source": [
    "test_points = np.array([[0, 0], [0, -0.5], [0.5, 0]])\n",
    "projected_test = test_points @ v\n",
    "print(projected_test)\n",
    "for i, point in enumerate(test_points):\n",
    "    classification = \"Class A\" if projected_test[i] > criterion else \"Class B\"\n",
    "    print(f\"Point {point} is classified as {classification}\")"
   ]
  },
  {
   "cell_type": "markdown",
   "id": "96aa7b28-5e3c-4b18-adcf-aa4d24b03d17",
   "metadata": {},
   "source": [
    "#### Convert 1D projections back to 2D space along v"
   ]
  },
  {
   "cell_type": "code",
   "execution_count": 15,
   "id": "ce9180a8-cd9b-4ed3-b178-7fb382003b54",
   "metadata": {},
   "outputs": [
    {
     "data": {
      "image/png": "[encoded data removed]",
      "text/plain": [
       "<Figure size 800x500 with 1 Axes>"
      ]
     },
     "metadata": {},
     "output_type": "display_data"
    }
   ],
   "source": [
    "# Plot projected data \n",
    "plt.figure(figsize=(8, 5))\n",
    "\n",
    "# Class A projections\n",
    "plt.scatter(Projected_A, [0] * len(Projected_A), color='blue', label='Class A (Projected)')\n",
    "\n",
    "# Class B projections\n",
    "plt.scatter(Projected_B, [0] * len(Projected_B), color='red', label='Class B (Projected)')\n",
    "\n",
    "# Decision boundary\n",
    "plt.axvline(criterion, color='black', linestyle='--', label='Decision Boundary')\n",
    "\n",
    "# Test points\n",
    "plt.scatter(projected_test, [0] * len(projected_test), color='green', marker='x', s=100, label='Test Points')\n",
    "\n",
    "plt.xlabel(\"Projection on v\")\n",
    "plt.title(\"Projected Data on Fisher’s Direction\")\n",
    "plt.legend()\n",
    "plt.show()\n"
   ]
  },
  {
   "cell_type": "markdown",
   "id": "c4137ba1-4240-403c-aff6-661212132980",
   "metadata": {},
   "source": [
    "#"
   ]
  },
  {
   "cell_type": "markdown",
   "id": "2de243df-aef6-4394-a5f9-820a89f61283",
   "metadata": {},
   "source": [
    "#"
   ]
  },
  {
   "cell_type": "markdown",
   "id": "30fe3b76-2022-458f-9ea9-35d7c9285159",
   "metadata": {},
   "source": [
    "# Use the iris dataset Petal Length and Petal Width for Versicolor and Virginica species.\n",
    "#### • Randomly select 40 points each from the two classes.\n",
    "#### • Find the direction v using Fisher’s Linear Discriminant function and generate the plot with the data points and the direction v.\n",
    "#### • Project all the points on v.\n",
    "#### • Create your own criterion for classification.\n",
    "#### • Classify the remaining 10 points for each class and report the accuracy."
   ]
  },
  {
   "cell_type": "markdown",
   "id": "62f27236-4982-4985-ab83-8dd9a5e305ef",
   "metadata": {},
   "source": [
    "#### Load Iris dataset"
   ]
  },
  {
   "cell_type": "code",
   "execution_count": 18,
   "id": "27b111e4-3759-43ea-a653-a071d8a9f161",
   "metadata": {},
   "outputs": [
    {
     "name": "stdout",
     "output_type": "stream",
     "text": [
      "[[1.4 0.2]\n",
      " [1.4 0.2]\n",
      " [1.3 0.2]\n",
      " [1.5 0.2]\n",
      " [1.4 0.2]\n",
      " [1.7 0.4]\n",
      " [1.4 0.3]\n",
      " [1.5 0.2]\n",
      " [1.4 0.2]\n",
      " [1.5 0.1]\n",
      " [1.5 0.2]\n",
      " [1.6 0.2]\n",
      " [1.4 0.1]\n",
      " [1.1 0.1]\n",
      " [1.2 0.2]\n",
      " [1.5 0.4]\n",
      " [1.3 0.4]\n",
      " [1.4 0.3]\n",
      " [1.7 0.3]\n",
      " [1.5 0.3]\n",
      " [1.7 0.2]\n",
      " [1.5 0.4]\n",
      " [1.  0.2]\n",
      " [1.7 0.5]\n",
      " [1.9 0.2]\n",
      " [1.6 0.2]\n",
      " [1.6 0.4]\n",
      " [1.5 0.2]\n",
      " [1.4 0.2]\n",
      " [1.6 0.2]\n",
      " [1.6 0.2]\n",
      " [1.5 0.4]\n",
      " [1.5 0.1]\n",
      " [1.4 0.2]\n",
      " [1.5 0.2]\n",
      " [1.2 0.2]\n",
      " [1.3 0.2]\n",
      " [1.4 0.1]\n",
      " [1.3 0.2]\n",
      " [1.5 0.2]\n",
      " [1.3 0.3]\n",
      " [1.3 0.3]\n",
      " [1.3 0.2]\n",
      " [1.6 0.6]\n",
      " [1.9 0.4]\n",
      " [1.4 0.3]\n",
      " [1.6 0.2]\n",
      " [1.4 0.2]\n",
      " [1.5 0.2]\n",
      " [1.4 0.2]\n",
      " [4.7 1.4]\n",
      " [4.5 1.5]\n",
      " [4.9 1.5]\n",
      " [4.  1.3]\n",
      " [4.6 1.5]\n",
      " [4.5 1.3]\n",
      " [4.7 1.6]\n",
      " [3.3 1. ]\n",
      " [4.6 1.3]\n",
      " [3.9 1.4]\n",
      " [3.5 1. ]\n",
      " [4.2 1.5]\n",
      " [4.  1. ]\n",
      " [4.7 1.4]\n",
      " [3.6 1.3]\n",
      " [4.4 1.4]\n",
      " [4.5 1.5]\n",
      " [4.1 1. ]\n",
      " [4.5 1.5]\n",
      " [3.9 1.1]\n",
      " [4.8 1.8]\n",
      " [4.  1.3]\n",
      " [4.9 1.5]\n",
      " [4.7 1.2]\n",
      " [4.3 1.3]\n",
      " [4.4 1.4]\n",
      " [4.8 1.4]\n",
      " [5.  1.7]\n",
      " [4.5 1.5]\n",
      " [3.5 1. ]\n",
      " [3.8 1.1]\n",
      " [3.7 1. ]\n",
      " [3.9 1.2]\n",
      " [5.1 1.6]\n",
      " [4.5 1.5]\n",
      " [4.5 1.6]\n",
      " [4.7 1.5]\n",
      " [4.4 1.3]\n",
      " [4.1 1.3]\n",
      " [4.  1.3]\n",
      " [4.4 1.2]\n",
      " [4.6 1.4]\n",
      " [4.  1.2]\n",
      " [3.3 1. ]\n",
      " [4.2 1.3]\n",
      " [4.2 1.2]\n",
      " [4.2 1.3]\n",
      " [4.3 1.3]\n",
      " [3.  1.1]\n",
      " [4.1 1.3]\n",
      " [6.  2.5]\n",
      " [5.1 1.9]\n",
      " [5.9 2.1]\n",
      " [5.6 1.8]\n",
      " [5.8 2.2]\n",
      " [6.6 2.1]\n",
      " [4.5 1.7]\n",
      " [6.3 1.8]\n",
      " [5.8 1.8]\n",
      " [6.1 2.5]\n",
      " [5.1 2. ]\n",
      " [5.3 1.9]\n",
      " [5.5 2.1]\n",
      " [5.  2. ]\n",
      " [5.1 2.4]\n",
      " [5.3 2.3]\n",
      " [5.5 1.8]\n",
      " [6.7 2.2]\n",
      " [6.9 2.3]\n",
      " [5.  1.5]\n",
      " [5.7 2.3]\n",
      " [4.9 2. ]\n",
      " [6.7 2. ]\n",
      " [4.9 1.8]\n",
      " [5.7 2.1]\n",
      " [6.  1.8]\n",
      " [4.8 1.8]\n",
      " [4.9 1.8]\n",
      " [5.6 2.1]\n",
      " [5.8 1.6]\n",
      " [6.1 1.9]\n",
      " [6.4 2. ]\n",
      " [5.6 2.2]\n",
      " [5.1 1.5]\n",
      " [5.6 1.4]\n",
      " [6.1 2.3]\n",
      " [5.6 2.4]\n",
      " [5.5 1.8]\n",
      " [4.8 1.8]\n",
      " [5.4 2.1]\n",
      " [5.6 2.4]\n",
      " [5.1 2.3]\n",
      " [5.1 1.9]\n",
      " [5.9 2.3]\n",
      " [5.7 2.5]\n",
      " [5.2 2.3]\n",
      " [5.  1.9]\n",
      " [5.2 2. ]\n",
      " [5.4 2.3]\n",
      " [5.1 1.8]]\n",
      "[0 0 0 0 0 0 0 0 0 0 0 0 0 0 0 0 0 0 0 0 0 0 0 0 0 0 0 0 0 0 0 0 0 0 0 0 0\n",
      " 0 0 0 0 0 0 0 0 0 0 0 0 0 1 1 1 1 1 1 1 1 1 1 1 1 1 1 1 1 1 1 1 1 1 1 1 1\n",
      " 1 1 1 1 1 1 1 1 1 1 1 1 1 1 1 1 1 1 1 1 1 1 1 1 1 1 2 2 2 2 2 2 2 2 2 2 2\n",
      " 2 2 2 2 2 2 2 2 2 2 2 2 2 2 2 2 2 2 2 2 2 2 2 2 2 2 2 2 2 2 2 2 2 2 2 2 2\n",
      " 2 2]\n"
     ]
    }
   ],
   "source": [
    "import numpy as np\n",
    "import matplotlib.pyplot as plt\n",
    "from sklearn import datasets\n",
    "from sklearn.model_selection import train_test_split\n",
    "\n",
    "# Load Iris dataset\n",
    "iris = datasets.load_iris()\n",
    "X = iris.data[:, 2:4]  # Using Petal Length and Petal Width\n",
    "Y = iris.target\n",
    "print(X)\n",
    "print(Y)"
   ]
  },
  {
   "cell_type": "markdown",
   "id": "2d6cc81c-4156-443a-ac47-5bd1a82b072c",
   "metadata": {},
   "source": [
    "#### Extract Versicolor (Class 1) and Virginica (Class 2)"
   ]
  },
  {
   "cell_type": "code",
   "execution_count": 44,
   "id": "680114ab-11de-48ca-8ad3-6d679e8cc6be",
   "metadata": {},
   "outputs": [
    {
     "name": "stdout",
     "output_type": "stream",
     "text": [
      "[[4.7 1.4]\n",
      " [4.5 1.5]\n",
      " [4.9 1.5]\n",
      " [4.  1.3]\n",
      " [4.6 1.5]\n",
      " [4.5 1.3]\n",
      " [4.7 1.6]\n",
      " [3.3 1. ]\n",
      " [4.6 1.3]\n",
      " [3.9 1.4]\n",
      " [3.5 1. ]\n",
      " [4.2 1.5]\n",
      " [4.  1. ]\n",
      " [4.7 1.4]\n",
      " [3.6 1.3]\n",
      " [4.4 1.4]\n",
      " [4.5 1.5]\n",
      " [4.1 1. ]\n",
      " [4.5 1.5]\n",
      " [3.9 1.1]\n",
      " [4.8 1.8]\n",
      " [4.  1.3]\n",
      " [4.9 1.5]\n",
      " [4.7 1.2]\n",
      " [4.3 1.3]\n",
      " [4.4 1.4]\n",
      " [4.8 1.4]\n",
      " [5.  1.7]\n",
      " [4.5 1.5]\n",
      " [3.5 1. ]\n",
      " [3.8 1.1]\n",
      " [3.7 1. ]\n",
      " [3.9 1.2]\n",
      " [5.1 1.6]\n",
      " [4.5 1.5]\n",
      " [4.5 1.6]\n",
      " [4.7 1.5]\n",
      " [4.4 1.3]\n",
      " [4.1 1.3]\n",
      " [4.  1.3]\n",
      " [4.4 1.2]\n",
      " [4.6 1.4]\n",
      " [4.  1.2]\n",
      " [3.3 1. ]\n",
      " [4.2 1.3]\n",
      " [4.2 1.2]\n",
      " [4.2 1.3]\n",
      " [4.3 1.3]\n",
      " [3.  1.1]\n",
      " [4.1 1.3]\n",
      " [6.  2.5]\n",
      " [5.1 1.9]\n",
      " [5.9 2.1]\n",
      " [5.6 1.8]\n",
      " [5.8 2.2]\n",
      " [6.6 2.1]\n",
      " [4.5 1.7]\n",
      " [6.3 1.8]\n",
      " [5.8 1.8]\n",
      " [6.1 2.5]\n",
      " [5.1 2. ]\n",
      " [5.3 1.9]\n",
      " [5.5 2.1]\n",
      " [5.  2. ]\n",
      " [5.1 2.4]\n",
      " [5.3 2.3]\n",
      " [5.5 1.8]\n",
      " [6.7 2.2]\n",
      " [6.9 2.3]\n",
      " [5.  1.5]\n",
      " [5.7 2.3]\n",
      " [4.9 2. ]\n",
      " [6.7 2. ]\n",
      " [4.9 1.8]\n",
      " [5.7 2.1]\n",
      " [6.  1.8]\n",
      " [4.8 1.8]\n",
      " [4.9 1.8]\n",
      " [5.6 2.1]\n",
      " [5.8 1.6]\n",
      " [6.1 1.9]\n",
      " [6.4 2. ]\n",
      " [5.6 2.2]\n",
      " [5.1 1.5]\n",
      " [5.6 1.4]\n",
      " [6.1 2.3]\n",
      " [5.6 2.4]\n",
      " [5.5 1.8]\n",
      " [4.8 1.8]\n",
      " [5.4 2.1]\n",
      " [5.6 2.4]\n",
      " [5.1 2.3]\n",
      " [5.1 1.9]\n",
      " [5.9 2.3]\n",
      " [5.7 2.5]\n",
      " [5.2 2.3]\n",
      " [5.  1.9]\n",
      " [5.2 2. ]\n",
      " [5.4 2.3]\n",
      " [5.1 1.8]]\n",
      "[1 1 1 1 1 1 1 1 1 1 1 1 1 1 1 1 1 1 1 1 1 1 1 1 1 1 1 1 1 1 1 1 1 1 1 1 1\n",
      " 1 1 1 1 1 1 1 1 1 1 1 1 1 2 2 2 2 2 2 2 2 2 2 2 2 2 2 2 2 2 2 2 2 2 2 2 2\n",
      " 2 2 2 2 2 2 2 2 2 2 2 2 2 2 2 2 2 2 2 2 2 2 2 2 2 2]\n"
     ]
    }
   ],
   "source": [
    "# Selecting only Versicolor (1) and Virginica (2) species\n",
    "mask = (Y == 1) | (Y == 2)\n",
    "X = X[mask]\n",
    "Y = Y[mask]\n",
    "print(X)\n",
    "print(Y)"
   ]
  },
  {
   "cell_type": "markdown",
   "id": "38abd15c-3656-4312-961f-fcd8db15a682",
   "metadata": {},
   "source": [
    "#### Convert labels to 0 and 1 (Versicolor -> 0, Virginica -> 1)"
   ]
  },
  {
   "cell_type": "code",
   "execution_count": 45,
   "id": "86a51253-9ce2-4a04-88db-ac06105cb868",
   "metadata": {},
   "outputs": [
    {
     "name": "stdout",
     "output_type": "stream",
     "text": [
      "[0 0 0 0 0 0 0 0 0 0 0 0 0 0 0 0 0 0 0 0 0 0 0 0 0 0 0 0 0 0 0 0 0 0 0 0 0\n",
      " 0 0 0 0 0 0 0 0 0 0 0 0 0 1 1 1 1 1 1 1 1 1 1 1 1 1 1 1 1 1 1 1 1 1 1 1 1\n",
      " 1 1 1 1 1 1 1 1 1 1 1 1 1 1 1 1 1 1 1 1 1 1 1 1 1 1]\n"
     ]
    }
   ],
   "source": [
    "Y = Y - 1\n",
    "print(Y)"
   ]
  },
  {
   "cell_type": "markdown",
   "id": "a2c139d9-de7b-472b-b23c-5e475a4bc737",
   "metadata": {},
   "source": [
    "#### Split into training (40 points) and testing (10 points) for each class."
   ]
  },
  {
   "cell_type": "code",
   "execution_count": 47,
   "id": "615ca4d2-7fca-44f6-ae4f-baa5c6eb8708",
   "metadata": {},
   "outputs": [],
   "source": [
    "X_train, X_test, Y_train, Y_test = train_test_split(X, Y, test_size=0.2, stratify=Y, random_state=42)"
   ]
  },
  {
   "cell_type": "markdown",
   "id": "5b29762d-7e20-4433-96cf-ce6fbd15010b",
   "metadata": {},
   "source": [
    "#### Separate the two classes in training data"
   ]
  },
  {
   "cell_type": "code",
   "execution_count": 50,
   "id": "e1a08af0-e28f-4650-bf1e-efea8e77bb8c",
   "metadata": {},
   "outputs": [
    {
     "name": "stdout",
     "output_type": "stream",
     "text": [
      "[[4.4 1.4]\n",
      " [4.7 1.6]\n",
      " [3.7 1. ]\n",
      " [4.2 1.3]\n",
      " [4.5 1.5]\n",
      " [4.5 1.6]\n",
      " [4.6 1.4]\n",
      " [4.9 1.5]\n",
      " [4.  1. ]\n",
      " [3.  1.1]\n",
      " [3.9 1.4]\n",
      " [3.5 1. ]\n",
      " [3.9 1.1]\n",
      " [4.  1.3]\n",
      " [4.3 1.3]\n",
      " [5.1 1.6]\n",
      " [4.5 1.3]\n",
      " [4.2 1.2]\n",
      " [4.2 1.5]\n",
      " [4.4 1.3]\n",
      " [4.  1.3]\n",
      " [3.9 1.2]\n",
      " [4.7 1.2]\n",
      " [4.7 1.4]\n",
      " [3.8 1.1]\n",
      " [4.6 1.3]\n",
      " [4.7 1.4]\n",
      " [4.2 1.3]\n",
      " [4.5 1.5]\n",
      " [4.4 1.2]\n",
      " [3.3 1. ]\n",
      " [4.3 1.3]\n",
      " [4.5 1.5]\n",
      " [4.6 1.5]\n",
      " [4.8 1.4]\n",
      " [5.  1.7]\n",
      " [4.1 1. ]\n",
      " [4.7 1.5]\n",
      " [4.  1.3]\n",
      " [4.4 1.4]]\n",
      "[[5.9 2.1]\n",
      " [5.1 2. ]\n",
      " [5.5 1.8]\n",
      " [6.9 2.3]\n",
      " [6.1 2.5]\n",
      " [5.1 1.8]\n",
      " [5.6 2.4]\n",
      " [5.6 2.1]\n",
      " [5.4 2.1]\n",
      " [6.1 1.9]\n",
      " [5.7 2.1]\n",
      " [5.3 1.9]\n",
      " [5.7 2.3]\n",
      " [4.9 2. ]\n",
      " [6.7 2.2]\n",
      " [5.5 1.8]\n",
      " [5.8 2.2]\n",
      " [4.8 1.8]\n",
      " [5.6 2.4]\n",
      " [5.3 2.3]\n",
      " [5.1 2.3]\n",
      " [4.8 1.8]\n",
      " [6.  2.5]\n",
      " [5.2 2.3]\n",
      " [6.4 2. ]\n",
      " [5.1 1.5]\n",
      " [6.6 2.1]\n",
      " [5.6 2.2]\n",
      " [6.7 2. ]\n",
      " [5.1 2.4]\n",
      " [5.5 2.1]\n",
      " [5.1 1.9]\n",
      " [5.  1.9]\n",
      " [5.6 1.8]\n",
      " [4.9 1.8]\n",
      " [5.7 2.5]\n",
      " [5.2 2. ]\n",
      " [5.4 2.3]\n",
      " [5.8 1.6]\n",
      " [6.1 2.3]]\n"
     ]
    }
   ],
   "source": [
    "X_class0 = X_train[Y_train == 0]\n",
    "X_class1 = X_train[Y_train == 1]\n",
    "print(X_class0)\n",
    "print(X_class1)"
   ]
  },
  {
   "cell_type": "markdown",
   "id": "68dfc78f-09a0-4c1f-993a-eb5b003c4615",
   "metadata": {},
   "source": [
    "#### Plot the training data"
   ]
  },
  {
   "cell_type": "code",
   "execution_count": 51,
   "id": "1549f707-ca1a-4609-8595-605b3fee1bf6",
   "metadata": {},
   "outputs": [
    {
     "data": {
      "image/png": "[encoded data removed]",
      "text/plain": [
       "<Figure size 800x600 with 1 Axes>"
      ]
     },
     "metadata": {},
     "output_type": "display_data"
    }
   ],
   "source": [
    "plt.figure(figsize=(8, 6))\n",
    "plt.scatter(X_class0[:, 0], X_class0[:, 1], color='blue', label='Versicolor')\n",
    "plt.scatter(X_class1[:, 0], X_class1[:, 1], color='red', label='Virginica')\n",
    "plt.xlabel(\"Petal Length\")\n",
    "plt.ylabel(\"Petal Width\")\n",
    "plt.legend()\n",
    "plt.title(\"Scatter Plot of Training Data\")\n",
    "plt.show()"
   ]
  },
  {
   "cell_type": "markdown",
   "id": "b4656f81-4cf7-4557-8d0e-3005d55feb9b",
   "metadata": {},
   "source": [
    "#### Compute the mean of each class"
   ]
  },
  {
   "cell_type": "code",
   "execution_count": 54,
   "id": "f295f1b9-653d-4156-8298-1bb0fa6b4bd7",
   "metadata": {},
   "outputs": [
    {
     "name": "stdout",
     "output_type": "stream",
     "text": [
      "[4.2925 1.3225]\n",
      "[5.5875 2.0825]\n"
     ]
    }
   ],
   "source": [
    "mean_0 = np.mean(X_class0, axis=0)\n",
    "mean_1 = np.mean(X_class1, axis=0)\n",
    "print(mean_0)\n",
    "print(mean_1)"
   ]
  },
  {
   "cell_type": "markdown",
   "id": "e6126509-d8ac-495c-b524-c64c2007e106",
   "metadata": {},
   "source": [
    "#### Compute the within-class scatter matrix"
   ]
  },
  {
   "cell_type": "code",
   "execution_count": 55,
   "id": "81bb4075-6c34-4071-b35f-4cbf8eb63bd8",
   "metadata": {},
   "outputs": [
    {
     "name": "stdout",
     "output_type": "stream",
     "text": [
      "[[19.4915  4.238 ]\n",
      " [ 4.238   3.8675]]\n"
     ]
    }
   ],
   "source": [
    "S_0 = (X_class0 - mean_0).T @ (X_class0 - mean_0)\n",
    "S_1 = (X_class1 - mean_1).T @ (X_class1 - mean_1)\n",
    "S_w = S_0 + S_1\n",
    "print(S_w)"
   ]
  },
  {
   "cell_type": "markdown",
   "id": "f7c17dfe-6a15-47d7-a236-7b329d75c8f4",
   "metadata": {},
   "source": [
    "#### Compute the direction v using Fisher’s LDA"
   ]
  },
  {
   "cell_type": "code",
   "execution_count": 56,
   "id": "9e3113d0-6916-464e-8a3b-694da03fd159",
   "metadata": {},
   "outputs": [
    {
     "name": "stdout",
     "output_type": "stream",
     "text": [
      "[0.03112935 0.16239788]\n"
     ]
    }
   ],
   "source": [
    "v = np.linalg.inv(S_w) @ (mean_1 - mean_0)\n",
    "print(v)"
   ]
  },
  {
   "cell_type": "markdown",
   "id": "ddfe9994-698f-4241-9d9a-e97fd50f52c1",
   "metadata": {},
   "source": [
    "####  Normalize v for visualization purposes"
   ]
  },
  {
   "cell_type": "code",
   "execution_count": 57,
   "id": "8a281eb9-df65-45f4-9c79-859d408fc6d8",
   "metadata": {},
   "outputs": [
    {
     "name": "stdout",
     "output_type": "stream",
     "text": [
      "[0.18825828 0.98211955]\n"
     ]
    }
   ],
   "source": [
    "v = v / np.linalg.norm(v)\n",
    "print(v)"
   ]
  },
  {
   "cell_type": "markdown",
   "id": "c92f1c88-b6af-4f2e-a424-5905dac83e0f",
   "metadata": {},
   "source": [
    "#### Plot data points along with the Fisher direction"
   ]
  },
  {
   "cell_type": "code",
   "execution_count": 58,
   "id": "96df9d08-0606-4ccd-a3da-06b848b18191",
   "metadata": {},
   "outputs": [
    {
     "data": {
      "image/png": "[encoded data removed]",
      "text/plain": [
       "<Figure size 800x600 with 1 Axes>"
      ]
     },
     "metadata": {},
     "output_type": "display_data"
    }
   ],
   "source": [
    "slope = v[1] / v[0]  # Calculate slope for visualization\n",
    "x_vals = np.linspace(X[:, 0].min(), X[:, 0].max(), 100)\n",
    "y_vals = slope * (x_vals - mean_0[0]) + mean_0[1]\n",
    "\n",
    "plt.figure(figsize=(8, 6))\n",
    "plt.scatter(X_class0[:, 0], X_class0[:, 1], color='blue', label='Versicolor')\n",
    "plt.scatter(X_class1[:, 0], X_class1[:, 1], color='red', label='Virginica')\n",
    "plt.plot(x_vals, y_vals, color='black', linestyle='--', label=\"Fisher's Direction\")\n",
    "plt.xlabel(\"Petal Length\")\n",
    "plt.ylabel(\"Petal Width\")\n",
    "plt.legend()\n",
    "plt.title(\"Fisher’s Linear Discriminant - Direction v\")\n",
    "plt.show()"
   ]
  },
  {
   "cell_type": "markdown",
   "id": "e579333c-0894-4ffe-a5d4-71cd229f3822",
   "metadata": {},
   "source": [
    "#### Project all points onto v"
   ]
  },
  {
   "cell_type": "code",
   "execution_count": 60,
   "id": "c23e69c7-697e-4ee1-a4ac-f56c358a2e00",
   "metadata": {},
   "outputs": [],
   "source": [
    "projected_0 = X_class0 @ v\n",
    "projected_1 = X_class1 @ v"
   ]
  },
  {
   "cell_type": "markdown",
   "id": "9b54b6ee-8306-42fc-801a-467850fda3ea",
   "metadata": {},
   "source": [
    "#### Define the classification criterion as the midpoint of class projections"
   ]
  },
  {
   "cell_type": "code",
   "execution_count": 61,
   "id": "793c28e9-4a72-400e-aee4-e6fd48c369f7",
   "metadata": {},
   "outputs": [
    {
     "name": "stdout",
     "output_type": "stream",
     "text": [
      "2.5220956198779545\n"
     ]
    }
   ],
   "source": [
    "criterion = (projected_0.max() + projected_1.min()) / 2\n",
    "print(criterion)"
   ]
  },
  {
   "cell_type": "markdown",
   "id": "2b4cca60-fd22-47d4-b1e3-d1f9cbbddcac",
   "metadata": {},
   "source": [
    "#### Project test points onto v and classify"
   ]
  },
  {
   "cell_type": "code",
   "execution_count": 63,
   "id": "3934fc57-c982-4853-8cbe-9e2376a956b1",
   "metadata": {},
   "outputs": [
    {
     "name": "stdout",
     "output_type": "stream",
     "text": [
      "Classification Accuracy: 80.00%\n"
     ]
    }
   ],
   "source": [
    "projected_test = X_test @ v\n",
    "predictions = (projected_test > criterion).astype(int)\n",
    "\n",
    "# Calculate accuracy\n",
    "accuracy = np.mean(predictions == Y_test) * 100\n",
    "print(f\"Classification Accuracy: {accuracy:.2f}%\")"
   ]
  },
  {
   "cell_type": "markdown",
   "id": "a0cb9419-e554-4117-97ff-2ae3d0a916f8",
   "metadata": {},
   "source": [
    "#### Plot projections"
   ]
  },
  {
   "cell_type": "code",
   "execution_count": 64,
   "id": "a63ed8cc-3951-40c5-ac30-132caf2e63e4",
   "metadata": {},
   "outputs": [
    {
     "data": {
      "image/png": "[encoded data removed]",
      "text/plain": [
       "<Figure size 800x500 with 1 Axes>"
      ]
     },
     "metadata": {},
     "output_type": "display_data"
    }
   ],
   "source": [
    "plt.figure(figsize=(8, 5))\n",
    "plt.scatter(projected_0, [0] * len(projected_0), color='blue', label='Versicolor (Projected)')\n",
    "plt.scatter(projected_1, [0] * len(projected_1), color='red', label='Virginica (Projected)')\n",
    "plt.axvline(criterion, color='black', linestyle='--', label='Decision Boundary')\n",
    "plt.scatter(projected_test, [0] * len(projected_test), color='green', marker='x', s=100, label='Test Points')\n",
    "plt.xlabel(\"Projection on v\")\n",
    "plt.title(\"Projected Data on Fisher’s Direction\")\n",
    "plt.legend()\n",
    "plt.show()"
   ]
  }
 ],
 "metadata": {
  "kernelspec": {
   "display_name": "Python 3 (ipykernel)",
   "language": "python",
   "name": "python3"
  },
  "language_info": {
   "codemirror_mode": {
    "name": "ipython",
    "version": 3
   },
   "file_extension": ".py",
   "mimetype": "text/x-python",
   "name": "python",
   "nbconvert_exporter": "python",
   "pygments_lexer": "ipython3",
   "version": "3.13.2"
  }
 },
 "nbformat": 4,
 "nbformat_minor": 5
}
